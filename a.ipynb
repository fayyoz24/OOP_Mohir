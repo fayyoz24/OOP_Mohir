{
 "cells": [
  {
   "cell_type": "markdown",
   "metadata": {},
   "source": [
    "Add - yangi talaba qo’shish\n",
    "\n",
    "Undergraduate - Bakalavr talaba qo’shish\n",
    "\n",
    "Bakalavr talabalari uchun quyidagi ma’lumotlar olinadi:   Student ID, Full Name, Nationality, Gender, Faculty, Admission Year, Residential Hall\n",
    "\n",
    "Postgraduate - Magistr talaba qo’shish\n",
    "\n",
    "Magistr talabalari uchun quyidagi ma’lumotlar olinadi: StudentID, Full Name, Nationality, Gender, Faculty, Admission Year, Supervisor Name, Research Topic\n",
    "\n"
   ]
  },
  {
   "cell_type": "code",
   "execution_count": 2,
   "metadata": {},
   "outputs": [
    {
     "name": "stdout",
     "output_type": "stream",
     "text": [
      "Please Enter correct option, 'exit' to exit\n",
      "Please Enter correct option, 'exit' to exit\n",
      "Please Enter correct option, 'exit' to exit\n",
      "Please Enter correct option, 'exit' to exit\n",
      "Please Enter correct option, 'exit' to exit\n",
      "Please Enter correct option, 'exit' to exit\n"
     ]
    },
    {
     "data": {
      "text/plain": [
       "1"
      ]
     },
     "execution_count": 2,
     "metadata": {},
     "output_type": "execute_result"
    }
   ],
   "source": [
    "def add():\n",
    "    user = \"\"\n",
    "    while user !='exit':\n",
    "        \n",
    "        user = input('Choose the status 0 for \"Undergradute\", 1 for \"Postgradute\"')\n",
    "        if user == \"0\":\n",
    "            std_id = input('Please enter std_id: ')\n",
    "            full_name = input('Please enter full_name: ')\n",
    "            nation = input('Please enter natioanality: ')\n",
    "            gender = input('Please enter gender: ')\n",
    "            fac = input('Please enter faculty: ')\n",
    "            ad_year = input('Please enter admission_year: ')\n",
    "            res_hall= input('Please enter res hall: ')\n",
    "        elif user == \"1\":\n",
    "            std_id = input('Please enter std_id: ')\n",
    "            full_name = input('Please enter full_name: ')\n",
    "            nation = input('Please enter natioanality: ')\n",
    "            gender = input('Please enter gender: ')\n",
    "            fac = input('Please enter faculty: ')\n",
    "            ad_year = input('Please enter admission_year: ')\n",
    "            res_hall= input('Please enter res hall: ')\n",
    "        else:\n",
    "            print(\"Please Enter correct option, 'exit' to exit\")\n",
    "    return 1\n",
    "add()\n"
   ]
  },
  {
   "cell_type": "code",
   "execution_count": 3,
   "metadata": {},
   "outputs": [],
   "source": [
    "import pandas as pd"
   ]
  },
  {
   "cell_type": "code",
   "execution_count": 14,
   "metadata": {},
   "outputs": [],
   "source": [
    "\n",
    "    \n",
    "    # std_ids_0 = []\n",
    "    # full_names_0 = []\n",
    "    # nations_0 = []\n",
    "    # genders_0 = []\n",
    "    # ad_years_0 = []\n",
    "    # facs_0 = []\n",
    "    # res_halls_0 = []\n",
    "    # std_ids_1 = []\n",
    "    # full_names_1 = []\n",
    "    # nations_1 = []\n",
    "    # genders_1 = []\n",
    "    # ad_years_1 = []\n",
    "    # facs_1 = []\n",
    "    # super_name_1 = []\n",
    "    # res_topic_1 = []\n",
    "    # df_under_grd = pd.DataFrame({\"Studet ID\": std_ids_0, \"Full Name\":full_names_0, \"Nationality\":nations_0, \"Gender\":genders_0, \"Admission year\":ad_years_0,\n",
    "    #                             \"Faculty\":facs_0, \"Res Hall\":res_halls_0})\n",
    "    # df_post_grd = pd.DataFrame({\"Studet ID\": std_ids_1, \"Full Name\":full_names_1, \"Nationality\":nations_1, \"Gender\":genders_1, \"Admission year\":ad_years_1,\n",
    "    #                             \"Faculty\":facs_1, \"Supervisor name\":super_name_1, \"Research topic\":res_topic_1})\n",
    "    user = \"\"\n",
    "    while user !='exit':\n",
    "        user = input('Choose the status 0 for \"Undergradute\", 1 for \"Postgradute\": ')\n",
    "        if user == \"0\":\n",
    "            std_id = input('Please enter std_id: ')\n",
    "            if std_id == \"\":\n",
    "                std_id = input(\"you are entering nothing, please tap 'Enter' if NG :) \")\n",
    "            std_ids_0.append(std_id)\n",
    "            full_name = input('Please enter full_name: ')\n",
    "            if full_name == \"\":\n",
    "                full_name = input(\"you are entering nothing, please tap 'Enter' if NG :) \")\n",
    "            full_names_0.append(full_name)\n",
    "            nation = input('Please enter natioanality: ')\n",
    "            if nation == \"\":\n",
    "                nation = input(\"you are entering nothing, please tap 'Enter' if NG :) \")\n",
    "            nations_0.append(nation)\n",
    "            gender = input('Please enter gender: ')\n",
    "            if gender == \"\":\n",
    "                gender = input(\"you are entering nothing, please tap 'Enter' if NG :) \")\n",
    "            genders_0.append(gender)\n",
    "            fac = input('Please enter faculty: ')\n",
    "            if fac == \"\":\n",
    "                fac = input(\"you are entering nothing, please tap 'Enter' if NG :) \")\n",
    "            facs_0.append(fac)\n",
    "            ad_year = input('Please enter admission_year: ')\n",
    "            if ad_year == \"\":\n",
    "                ad_year = input(\"you are entering nothing, please tap 'Enter' if NG :) \")\n",
    "            ad_years_0.append(ad_year)\n",
    "            res_hall= input('Please enter res hall: ')\n",
    "            if res_hall == \"\":\n",
    "                res_hall = input(\"you are entering nothing, please tap 'Enter' if NG :) \")\n",
    "            res_halls_0.append(std_id)\n",
    "        elif user == \"1\":\n",
    "            std_id = input('Please enter std_id: ')\n",
    "            if std_id == \"\":\n",
    "                std_id = input(\"you are entering nothing, please tap 'Enter' if NG :) \")\n",
    "            std_ids_0.append(std_id)\n",
    "            full_name = input('Please enter full_name: ')\n",
    "            if full_name == \"\":\n",
    "                full_name = input(\"you are entering nothing, please tap 'Enter' if NG :) \")\n",
    "            full_names_0.append(full_name)\n",
    "            nation = input('Please enter natioanality: ')\n",
    "            if nation == \"\":\n",
    "                nation = input(\"you are entering nothing, please tap 'Enter' if NG :) \")\n",
    "            nations_0.append(nation)\n",
    "            gender = input('Please enter gender: ')\n",
    "            if gender == \"\":\n",
    "                gender = input(\"you are entering nothing, please tap 'Enter' if NG :) \")\n",
    "            genders_0.append(gender)\n",
    "            fac = input('Please enter faculty: ')\n",
    "            if fac == \"\":\n",
    "                fac = input(\"you are entering nothing, please tap 'Enter' if NG :) \")\n",
    "            facs_0.append(fac)\n",
    "            ad_year = input('Please enter admission_year: ')\n",
    "            if ad_year == \"\":\n",
    "                ad_year = input(\"you are entering nothing, please tap 'Enter' if NG :) \")\n",
    "            ad_years_0.append(ad_year)\n",
    "            res_hall= input('Please enter res hall: ')\n",
    "            if res_hall == \"\":\n",
    "                res_hall = input(\"you are entering nothing, please tap 'Enter' if NG :) \")\n",
    "            res_halls_0.append(std_id)\n",
    "        elif user != 'exit':\n",
    "            print(\"Please Enter correct option, 'exit' to exit\")\n",
    "    \n",
    "add()"
   ]
  },
  {
   "cell_type": "code",
   "execution_count": 15,
   "metadata": {},
   "outputs": [
    {
     "ename": "NameError",
     "evalue": "name 'std_ids_0' is not defined",
     "output_type": "error",
     "traceback": [
      "\u001b[1;31m---------------------------------------------------------------------------\u001b[0m",
      "\u001b[1;31mNameError\u001b[0m                                 Traceback (most recent call last)",
      "\u001b[1;32mc:\\Users\\GitHub\\Django_projects\\Blog\\vlog\\a.ipynb Cell 6'\u001b[0m in \u001b[0;36m<cell line: 1>\u001b[1;34m()\u001b[0m\n\u001b[1;32m----> <a href='vscode-notebook-cell:/c%3A/Users/GitHub/Django_projects/Blog/vlog/a.ipynb#ch0000009?line=0'>1</a>\u001b[0m df_under_grd \u001b[39m=\u001b[39m pd\u001b[39m.\u001b[39mDataFrame({\u001b[39m\"\u001b[39m\u001b[39mStudet ID\u001b[39m\u001b[39m\"\u001b[39m: std_ids_0, \u001b[39m\"\u001b[39m\u001b[39mFull Name\u001b[39m\u001b[39m\"\u001b[39m:full_names_0, \u001b[39m\"\u001b[39m\u001b[39mNationality\u001b[39m\u001b[39m\"\u001b[39m:nations_0, \u001b[39m\"\u001b[39m\u001b[39mGender\u001b[39m\u001b[39m\"\u001b[39m:genders_0, \u001b[39m\"\u001b[39m\u001b[39mAdmission year\u001b[39m\u001b[39m\"\u001b[39m:ad_years_0,\n\u001b[0;32m      <a href='vscode-notebook-cell:/c%3A/Users/GitHub/Django_projects/Blog/vlog/a.ipynb#ch0000009?line=1'>2</a>\u001b[0m                             \u001b[39m\"\u001b[39m\u001b[39mFaculty\u001b[39m\u001b[39m\"\u001b[39m:facs_0, \u001b[39m\"\u001b[39m\u001b[39mRes Hall\u001b[39m\u001b[39m\"\u001b[39m:res_halls_0})\n\u001b[0;32m      <a href='vscode-notebook-cell:/c%3A/Users/GitHub/Django_projects/Blog/vlog/a.ipynb#ch0000009?line=2'>3</a>\u001b[0m df_post_grd \u001b[39m=\u001b[39m pd\u001b[39m.\u001b[39mDataFrame({\u001b[39m\"\u001b[39m\u001b[39mStudet ID\u001b[39m\u001b[39m\"\u001b[39m: std_ids_1, \u001b[39m\"\u001b[39m\u001b[39mFull Name\u001b[39m\u001b[39m\"\u001b[39m:full_names_1, \u001b[39m\"\u001b[39m\u001b[39mNationality\u001b[39m\u001b[39m\"\u001b[39m:nations_1, \u001b[39m\"\u001b[39m\u001b[39mGender\u001b[39m\u001b[39m\"\u001b[39m:genders_1, \u001b[39m\"\u001b[39m\u001b[39mAdmission year\u001b[39m\u001b[39m\"\u001b[39m:ad_years_1,\n\u001b[0;32m      <a href='vscode-notebook-cell:/c%3A/Users/GitHub/Django_projects/Blog/vlog/a.ipynb#ch0000009?line=3'>4</a>\u001b[0m                             \u001b[39m\"\u001b[39m\u001b[39mFaculty\u001b[39m\u001b[39m\"\u001b[39m:facs_1, \u001b[39m\"\u001b[39m\u001b[39mSupervisor name\u001b[39m\u001b[39m\"\u001b[39m:super_name_1, \u001b[39m\"\u001b[39m\u001b[39mResearch topic\u001b[39m\u001b[39m\"\u001b[39m:res_topic_1})\n",
      "\u001b[1;31mNameError\u001b[0m: name 'std_ids_0' is not defined"
     ]
    }
   ],
   "source": [
    "    df_under_grd = pd.DataFrame({\"Studet ID\": std_ids_0, \"Full Name\":full_names_0, \"Nationality\":nations_0, \"Gender\":genders_0, \"Admission year\":ad_years_0,\n",
    "                                \"Faculty\":facs_0, \"Res Hall\":res_halls_0})\n",
    "    df_post_grd = pd.DataFrame({\"Studet ID\": std_ids_1, \"Full Name\":full_names_1, \"Nationality\":nations_1, \"Gender\":genders_1, \"Admission year\":ad_years_1,\n",
    "                                \"Faculty\":facs_1, \"Supervisor name\":super_name_1, \"Research topic\":res_topic_1})"
   ]
  },
  {
   "cell_type": "code",
   "execution_count": 16,
   "metadata": {},
   "outputs": [],
   "source": [
    "\n",
    "def remove():\n",
    "    rmv_std = input('Please enter the STD ID to remove: ')\n",
    "    if df_under_grd[df_under_grd['Student ID']==rmv_std]:\n",
    "        name = df_under_grd['Full Name'][df_under_grd['Student ID'] == rmv_std]\n",
    "        df_under_grd = df_under_grd.drop(df_under_grd[df_under_grd == rmv_std].index)\n",
    "        print(f'{name} is succesfully removed! ')\n",
    "    elif df_post_grd[df_post_grd['Student ID']==rmv_std]:\n",
    "        name = df_post_grd['Full Name'][df_post_grd['Student ID'] == rmv_std]\n",
    "        df_post_grd = df_post_grd.drop(df_post_grd[df_post_grd == rmv_std].index)\n",
    "        print(f'{name} is succesfully removed! ')\n",
    "    else:\n",
    "        print('Please enter valid Student ID')\n",
    "    # i=df[df[‘Name’]==’Will’]\n",
    "    # df_under_grd\n",
    "\n",
    "# df = df.drop(df[df.score < 50].index)\n",
    "remove()"
   ]
  },
  {
   "cell_type": "markdown",
   "metadata": {},
   "source": [
    "\n",
    "Display All - Tizimdagi barcha mavjud ma’lumotlarni ko’rsatish \n",
    "\n",
    "Exit - Chiqish "
   ]
  },
  {
   "cell_type": "code",
   "execution_count": 3,
   "metadata": {},
   "outputs": [],
   "source": [
    "import pandas as pd"
   ]
  },
  {
   "cell_type": "code",
   "execution_count": 14,
   "metadata": {},
   "outputs": [],
   "source": [
    "df_under_grd = pd.read_csv('und_grd.csv', index_col=False)\n",
    "df_post_grd = pd.read_csv('post_grd.csv', index_col=False)"
   ]
  },
  {
   "cell_type": "code",
   "execution_count": 18,
   "metadata": {},
   "outputs": [
    {
     "data": {
      "text/html": [
       "<div>\n",
       "<style scoped>\n",
       "    .dataframe tbody tr th:only-of-type {\n",
       "        vertical-align: middle;\n",
       "    }\n",
       "\n",
       "    .dataframe tbody tr th {\n",
       "        vertical-align: top;\n",
       "    }\n",
       "\n",
       "    .dataframe thead th {\n",
       "        text-align: right;\n",
       "    }\n",
       "</style>\n",
       "<table border=\"1\" class=\"dataframe\">\n",
       "  <thead>\n",
       "    <tr style=\"text-align: right;\">\n",
       "      <th></th>\n",
       "      <th>Student ID</th>\n",
       "      <th>Full Name</th>\n",
       "      <th>Nationality</th>\n",
       "      <th>Gender</th>\n",
       "      <th>Admission year</th>\n",
       "      <th>Faculty</th>\n",
       "      <th>Res Hall</th>\n",
       "    </tr>\n",
       "  </thead>\n",
       "  <tbody>\n",
       "  </tbody>\n",
       "</table>\n",
       "</div>"
      ],
      "text/plain": [
       "Empty DataFrame\n",
       "Columns: [Student ID, Full Name, Nationality, Gender, Admission year, Faculty, Res Hall]\n",
       "Index: []"
      ]
     },
     "execution_count": 18,
     "metadata": {},
     "output_type": "execute_result"
    }
   ],
   "source": [
    "df_under_grd.loc[df_under_grd['Student ID'] == 'c'] "
   ]
  },
  {
   "cell_type": "code",
   "execution_count": 13,
   "metadata": {},
   "outputs": [
    {
     "ename": "ValueError",
     "evalue": "The truth value of a DataFrame is ambiguous. Use a.empty, a.bool(), a.item(), a.any() or a.all().",
     "output_type": "error",
     "traceback": [
      "\u001b[1;31m---------------------------------------------------------------------------\u001b[0m",
      "\u001b[1;31mValueError\u001b[0m                                Traceback (most recent call last)",
      "\u001b[1;32mc:\\Users\\GitHub\\Django_projects\\a.ipynb Cell 11'\u001b[0m in \u001b[0;36m<cell line: 8>\u001b[1;34m()\u001b[0m\n\u001b[0;32m      <a href='vscode-notebook-cell:/c%3A/Users/GitHub/Django_projects/a.ipynb#ch0000008?line=3'>4</a>\u001b[0m     \u001b[39mreturn\u001b[39;00m df_post_grd[std_ID]\n\u001b[0;32m      <a href='vscode-notebook-cell:/c%3A/Users/GitHub/Django_projects/a.ipynb#ch0000008?line=4'>5</a>\u001b[0m     \u001b[39m# elif df_post_grd[df_post_grd['Student ID']==rmv_std]:\u001b[39;00m\n\u001b[0;32m      <a href='vscode-notebook-cell:/c%3A/Users/GitHub/Django_projects/a.ipynb#ch0000008?line=5'>6</a>\u001b[0m     \u001b[39m#     name = df_post_grd['Full Name'][df_post_grd['Student ID'] == rmv_std]\u001b[39;00m\n\u001b[0;32m      <a href='vscode-notebook-cell:/c%3A/Users/GitHub/Django_projects/a.ipynb#ch0000008?line=6'>7</a>\u001b[0m     \u001b[39m#     print(f'{name} is succesfully removed! ')\u001b[39;00m\n\u001b[1;32m----> <a href='vscode-notebook-cell:/c%3A/Users/GitHub/Django_projects/a.ipynb#ch0000008?line=7'>8</a>\u001b[0m find(\u001b[39m'\u001b[39;49m\u001b[39mq\u001b[39;49m\u001b[39m'\u001b[39;49m)\n",
      "\u001b[1;32mc:\\Users\\GitHub\\Django_projects\\a.ipynb Cell 11'\u001b[0m in \u001b[0;36mfind\u001b[1;34m(std_ID)\u001b[0m\n\u001b[0;32m      <a href='vscode-notebook-cell:/c%3A/Users/GitHub/Django_projects/a.ipynb#ch0000008?line=0'>1</a>\u001b[0m \u001b[39mdef\u001b[39;00m \u001b[39mfind\u001b[39m(std_ID):\n\u001b[1;32m----> <a href='vscode-notebook-cell:/c%3A/Users/GitHub/Django_projects/a.ipynb#ch0000008?line=1'>2</a>\u001b[0m     \u001b[39mif\u001b[39;00m df_under_grd\u001b[39m.\u001b[39mloc[df_under_grd[\u001b[39m'\u001b[39m\u001b[39mStudent ID\u001b[39m\u001b[39m'\u001b[39m]\u001b[39m==\u001b[39mstd_ID]:\n\u001b[0;32m      <a href='vscode-notebook-cell:/c%3A/Users/GitHub/Django_projects/a.ipynb#ch0000008?line=2'>3</a>\u001b[0m         \u001b[39mreturn\u001b[39;00m df_under_grd[std_ID]\n\u001b[0;32m      <a href='vscode-notebook-cell:/c%3A/Users/GitHub/Django_projects/a.ipynb#ch0000008?line=3'>4</a>\u001b[0m     \u001b[39mreturn\u001b[39;00m df_post_grd[std_ID]\n",
      "File \u001b[1;32mc:\\Users\\fayyo\\.conda\\envs\\deep_learning\\lib\\site-packages\\pandas\\core\\generic.py:1535\u001b[0m, in \u001b[0;36mNDFrame.__nonzero__\u001b[1;34m(self)\u001b[0m\n\u001b[0;32m   1533\u001b[0m \u001b[39m@final\u001b[39m\n\u001b[0;32m   1534\u001b[0m \u001b[39mdef\u001b[39;00m \u001b[39m__nonzero__\u001b[39m(\u001b[39mself\u001b[39m):\n\u001b[1;32m-> 1535\u001b[0m     \u001b[39mraise\u001b[39;00m \u001b[39mValueError\u001b[39;00m(\n\u001b[0;32m   1536\u001b[0m         \u001b[39mf\u001b[39m\u001b[39m\"\u001b[39m\u001b[39mThe truth value of a \u001b[39m\u001b[39m{\u001b[39;00m\u001b[39mtype\u001b[39m(\u001b[39mself\u001b[39m)\u001b[39m.\u001b[39m\u001b[39m__name__\u001b[39m\u001b[39m}\u001b[39;00m\u001b[39m is ambiguous. \u001b[39m\u001b[39m\"\u001b[39m\n\u001b[0;32m   1537\u001b[0m         \u001b[39m\"\u001b[39m\u001b[39mUse a.empty, a.bool(), a.item(), a.any() or a.all().\u001b[39m\u001b[39m\"\u001b[39m\n\u001b[0;32m   1538\u001b[0m     )\n",
      "\u001b[1;31mValueError\u001b[0m: The truth value of a DataFrame is ambiguous. Use a.empty, a.bool(), a.item(), a.any() or a.all()."
     ]
    }
   ],
   "source": [
    "def find(std_ID):\n",
    "    if df_under_grd.loc[df_under_grd['Student ID']==std_ID]:\n",
    "        return df_under_grd[std_ID]\n",
    "    return df_post_grd[std_ID]\n",
    "    # elif df_post_grd[df_post_grd['Student ID']==rmv_std]:\n",
    "    #     name = df_post_grd['Full Name'][df_post_grd['Student ID'] == rmv_std]\n",
    "    #     print(f'{name} is succesfully removed! ')\n",
    "find('q')"
   ]
  },
  {
   "cell_type": "code",
   "execution_count": null,
   "metadata": {},
   "outputs": [],
   "source": [
    "def display_all():\n",
    "    print(f'Undergraduate students: {df_under_grd}')\n",
    "    print(f'Postgraduate students: {df_post_grd}')"
   ]
  },
  {
   "cell_type": "code",
   "execution_count": 7,
   "metadata": {},
   "outputs": [],
   "source": [
    "a = pd.DataFrame({'a':[1,2,3,4], 'b':['a','b','c', 'd'], 'c':[6,7,8,9]})"
   ]
  },
  {
   "cell_type": "code",
   "execution_count": 11,
   "metadata": {},
   "outputs": [
    {
     "data": {
      "text/plain": [
       "1    b\n",
       "Name: b, dtype: object"
      ]
     },
     "execution_count": 11,
     "metadata": {},
     "output_type": "execute_result"
    }
   ],
   "source": [
    "a['b'][a['a']==2]"
   ]
  },
  {
   "cell_type": "code",
   "execution_count": 26,
   "metadata": {},
   "outputs": [
    {
     "name": "stdout",
     "output_type": "stream",
     "text": [
      "Undergraduate students: Empty DataFrame\n",
      "Columns: [Studet ID, Full Name, Nationality, Gender, Admission year, Faculty, Res Hall]\n",
      "Index: []\n",
      "Postgraduate students: Empty DataFrame\n",
      "Columns: [Studet ID, Full Name, Nationality, Gender, Admission year, Faculty, Supervisor name, Research topic]\n",
      "Index: []\n"
     ]
    }
   ],
   "source": [
    "import pandas as pd\n",
    "\n",
    "class Students:\n",
    "    def __init__(self):\n",
    "        self.std_ids_0 = []\n",
    "        self.full_names_0 = []\n",
    "        self.nations_0 = []\n",
    "        self.genders_0 = []\n",
    "        self.ad_years_0 = []\n",
    "        self.facs_0 = []\n",
    "        self.res_halls_0 = []\n",
    "        self.std_ids_1 = []\n",
    "        self.full_names_1 = []\n",
    "        self.nations_1 = []\n",
    "        self.genders_1 = []\n",
    "        self.ad_years_1 = []\n",
    "        self.facs_1 = []\n",
    "        self.super_name_1 = []\n",
    "        self.res_topic_1 = []\n",
    "        self.df_under_grd = pd.DataFrame({\"Student ID\": self.std_ids_0, \"Full Name\":self.full_names_0, \"Nationality\":self.nations_0, \"Gender\":self.genders_0, \n",
    "                                        \"Admission year\":self.ad_years_0, \"Faculty\":self.facs_0, \"Res Hall\" : self.res_halls_0})\n",
    "        self.df_post_grd = pd.DataFrame({\"Studet ID\": self.std_ids_1, \"Full Name\": self.full_names_1, \"Nationality\": self.nations_1, \"Gender\": self.genders_1, \n",
    "                                        \"Admission year\" : self.ad_years_1, \"Faculty\" : self.facs_1, \"Supervisor name\": self.super_name_1, \n",
    "                                        \"Research topic\": self.res_topic_1})\n",
    "    @property\n",
    "    def add(self) :\n",
    "        user = \"\"\n",
    "        while user !='exit':\n",
    "            user = input('Choose the status 0 for \"Undergradute\", 1 for \"Postgradute\": ')\n",
    "            if user == \"0\":\n",
    "                std_id = input('Please enter std_id: ')\n",
    "                if std_id == \"\":\n",
    "                    std_id = input(\"you are entering nothing, please tap 'Enter' if NG :) \")\n",
    "                self.std_ids_0.append(std_id)\n",
    "                full_name = input('Please enter full_name: ')\n",
    "                if full_name == \"\":\n",
    "                    full_name = input(\"you are entering nothing, please tap 'Enter' if NG :) \")\n",
    "                self.full_names_0.append(full_name)\n",
    "                nation = input('Please enter natioanality: ')\n",
    "                if nation == \"\":\n",
    "                    nation = input(\"you are entering nothing, please tap 'Enter' if NG :) \")\n",
    "                self.nations_0.append(nation)\n",
    "                gender = input('Please enter gender: ')\n",
    "                if gender == \"\":\n",
    "                    gender = input(\"you are entering nothing, please tap 'Enter' if NG :) \")\n",
    "                self.genders_0.append(gender)\n",
    "                fac = input('Please enter faculty: ')\n",
    "                if fac == \"\":\n",
    "                    fac = input(\"you are entering nothing, please tap 'Enter' if NG :) \")\n",
    "                self.facs_0.append(fac)\n",
    "                ad_year = input('Please enter admission_year: ')\n",
    "                if ad_year == \"\":\n",
    "                    ad_year = input(\"you are entering nothing, please tap 'Enter' if NG :) \")\n",
    "                self.ad_years_0.append(ad_year)\n",
    "                res_hall= input('Please enter res hall: ')\n",
    "                if res_hall == \"\":\n",
    "                    res_hall = input(\"you are entering nothing, please tap 'Enter' if NG :) \")\n",
    "                self.res_halls_0.append(std_id)\n",
    "            elif user == \"1\":\n",
    "                std_id = input('Please enter std_id: ')\n",
    "                if std_id == \"\":\n",
    "                    std_id = input(\"you are entering nothing, please tap 'Enter' if NG :) \")\n",
    "                self.std_ids_0.append(std_id)\n",
    "                full_name = input('Please enter full_name: ')\n",
    "                if full_name == \"\":\n",
    "                    full_name = input(\"you are entering nothing, please tap 'Enter' if NG :) \")\n",
    "                self.full_names_0.append(full_name)\n",
    "                nation = input('Please enter natioanality: ')\n",
    "                if nation == \"\":\n",
    "                    nation = input(\"you are entering nothing, please tap 'Enter' if NG :) \")\n",
    "                self.nations_0.append(nation)\n",
    "                gender = input('Please enter gender: ')\n",
    "                if gender == \"\":\n",
    "                    gender = input(\"you are entering nothing, please tap 'Enter' if NG :) \")\n",
    "                self.genders_0.append(gender)\n",
    "                fac = input('Please enter faculty: ')\n",
    "                if fac == \"\":\n",
    "                    fac = input(\"you are entering nothing, please tap 'Enter' if NG :) \")\n",
    "                self.facs_0.append(fac)\n",
    "                ad_year = input('Please enter admission_year: ')\n",
    "                if ad_year == \"\":\n",
    "                    ad_year = input(\"you are entering nothing, please tap 'Enter' if NG :) \")\n",
    "                self.ad_years_0.append(ad_year)\n",
    "                res_hall= input('Please enter res hall: ')\n",
    "                if res_hall == \"\":\n",
    "                    res_hall = input(\"you are entering nothing, please tap 'Enter' if NG :) \")\n",
    "                self.res_halls_0.append(std_id)\n",
    "            elif user != 'exit':\n",
    "                print(\"Please Enter correct option, 'exit' to exit\")\n",
    "\n",
    "    def remove(self, std_id):\n",
    "        self.std_id = std_id\n",
    "        # rmv_std = input('Please enter the STD ID to remove: ')\n",
    "        if df_under_grd[df_under_grd['Student ID']==  self.std_id]:\n",
    "            name = df_under_grd['Full Name'][df_under_grd['Student ID'] == self.std_id]\n",
    "            df_under_grd = df_under_grd.drop(df_under_grd[df_under_grd == self.std_id].index)\n",
    "            print(f'{name} is succesfully removed! ')\n",
    "        elif df_post_grd[df_post_grd['Student ID']== self.std_id]:\n",
    "            name = df_post_grd['Full Name'][df_post_grd['Student ID'] == self.std_id]\n",
    "            df_post_grd = df_post_grd.drop(df_post_grd[df_post_grd == self.std_id].index)\n",
    "            print(f'{name} is succesfully removed! ')\n",
    "        else:\n",
    "            print('Please enter valid Student ID')\n",
    "    \n",
    "    def find(self, std_id):\n",
    "        # self.std_id = std_id\n",
    "        if df_under_grd[df_under_grd['Student ID']==self.std_id]:\n",
    "            return df_under_grd[self.std_id]\n",
    "        elif df_post_grd[df_post_grd['Student ID']==self.std_id]:\n",
    "            return df_post_grd[self.std_id]\n",
    "        else:\n",
    "            print('this ID is Not Found!')\n",
    "    @property\n",
    "    def display_all(self):\n",
    "        print(f'Undergraduate students: {self.df_under_grd}')\n",
    "        print(f'Postgraduate students: {self.df_post_grd}')\n",
    "\n",
    "stud = Students()\n",
    "stud.display_all"
   ]
  }
 ],
 "metadata": {
  "kernelspec": {
   "display_name": "Python 3.9.7 ('deep_learning')",
   "language": "python",
   "name": "python3"
  },
  "language_info": {
   "codemirror_mode": {
    "name": "ipython",
    "version": 3
   },
   "file_extension": ".py",
   "mimetype": "text/x-python",
   "name": "python",
   "nbconvert_exporter": "python",
   "pygments_lexer": "ipython3",
   "version": "3.9.7"
  },
  "orig_nbformat": 4,
  "vscode": {
   "interpreter": {
    "hash": "c9a14e04e64e5c8e01b47c8b1565e7dceabbb530c867342e936200ec2e21f29e"
   }
  }
 },
 "nbformat": 4,
 "nbformat_minor": 2
}
